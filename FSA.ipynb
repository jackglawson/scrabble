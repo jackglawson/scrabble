{
 "cells": [
  {
   "cell_type": "code",
   "execution_count": 1,
   "metadata": {},
   "outputs": [],
   "source": [
    "filename = 'lexicon.txt'\n",
    "lexicon_file = open(filename, 'r')\n",
    "lexicon = [line.rstrip() for line in lexicon_file.readlines()]"
   ]
  },
  {
   "cell_type": "code",
   "execution_count": 7,
   "metadata": {},
   "outputs": [
    {
     "data": {
      "text/plain": [
       "<generator object <genexpr> at 0x0000017714BD6580>"
      ]
     },
     "execution_count": 7,
     "metadata": {},
     "output_type": "execute_result"
    }
   ],
   "source": [
    "(a for a in range(2))"
   ]
  },
  {
   "cell_type": "code",
   "execution_count": 2,
   "metadata": {},
   "outputs": [],
   "source": [
    "class FSANode:\n",
    "    def __init__(self, _id, eow: bool = False):\n",
    "        self._id = _id\n",
    "        self.eow = eow   # end of word\n",
    "        self.children = {}\n",
    "        \n",
    "    def add_child(self, char, _id, eow=False):\n",
    "        assert char not in self.children.keys()\n",
    "        self.children[char] = FSANode(_id, eow)\n",
    "        \n",
    "    def __repr__(self):\n",
    "        return '{} {}'.format('eow' if self.eow else '', self.children, )"
   ]
  },
  {
   "cell_type": "code",
   "execution_count": 3,
   "metadata": {},
   "outputs": [],
   "source": [
    "class FSA:\n",
    "    def __init__(self):\n",
    "        self.node_id = 1\n",
    "        self.root = FSANode(0)\n",
    "        \n",
    "    def add_word(self, word: str):\n",
    "        if word in self:\n",
    "            return\n",
    "        \n",
    "        word = list(word)\n",
    "        node = self.root\n",
    "        while word[0] in node.children.keys():\n",
    "            node = node.children[word.pop(0)]\n",
    "        while word:\n",
    "            char = word.pop(0)\n",
    "            eow = True if not word else False\n",
    "            node.add_child(char, self.node_id, eow)\n",
    "            self.node_id += 1\n",
    "            node = node.children[char]\n",
    "            \n",
    "    def __contains__(self, word: str):\n",
    "        word = list(word)\n",
    "        node = self.root\n",
    "        while word:\n",
    "            char = word.pop(0)\n",
    "            try:\n",
    "                node = node.children[char]\n",
    "            except:\n",
    "                return False\n",
    "        return True if node.eow else False\n",
    "            \n",
    "    def __repr__(self):\n",
    "        return str(self.root)"
   ]
  },
  {
   "cell_type": "code",
   "execution_count": 4,
   "metadata": {},
   "outputs": [],
   "source": [
    "l = ['tap', 'top', 'taps', 'tops']"
   ]
  },
  {
   "cell_type": "code",
   "execution_count": 5,
   "metadata": {},
   "outputs": [],
   "source": [
    "fsa = FSA()\n",
    "for word in l:\n",
    "    fsa.add_word(word)"
   ]
  },
  {
   "cell_type": "code",
   "execution_count": 6,
   "metadata": {},
   "outputs": [
    {
     "data": {
      "text/plain": [
       " {'t':  {'a':  {'p': eow {'s': eow {}}}, 'o':  {'p': eow {'s': eow {}}}}}"
      ]
     },
     "execution_count": 6,
     "metadata": {},
     "output_type": "execute_result"
    }
   ],
   "source": [
    "fsa"
   ]
  },
  {
   "cell_type": "code",
   "execution_count": null,
   "metadata": {},
   "outputs": [],
   "source": []
  }
 ],
 "metadata": {
  "kernelspec": {
   "display_name": "Python 3",
   "language": "python",
   "name": "python3"
  },
  "language_info": {
   "codemirror_mode": {
    "name": "ipython",
    "version": 3
   },
   "file_extension": ".py",
   "mimetype": "text/x-python",
   "name": "python",
   "nbconvert_exporter": "python",
   "pygments_lexer": "ipython3",
   "version": "3.8.3"
  }
 },
 "nbformat": 4,
 "nbformat_minor": 4
}
