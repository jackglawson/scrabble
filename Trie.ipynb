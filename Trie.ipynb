{
 "cells": [
  {
   "cell_type": "code",
   "execution_count": 11,
   "metadata": {},
   "outputs": [],
   "source": [
    "from copy import copy\n",
    "from time import time"
   ]
  },
  {
   "cell_type": "code",
   "execution_count": 2,
   "metadata": {},
   "outputs": [],
   "source": [
    "filename = 'lexicon.txt'\n",
    "lexicon_file = open(filename, 'r')\n",
    "lexicon = [line.rstrip() for line in lexicon_file.readlines()]"
   ]
  },
  {
   "cell_type": "code",
   "execution_count": 43,
   "metadata": {},
   "outputs": [],
   "source": [
    "class TrieNode:\n",
    "    def __init__(self, eow: bool = False):\n",
    "        self.eow = eow  # end of word\n",
    "        self.children = {}\n",
    "\n",
    "    def add(self, char, final_char: bool = False):\n",
    "        assert char not in self.children.keys()\n",
    "        self.children[char] = TrieNode(final_char)\n",
    "\n",
    "    def __repr__(self):\n",
    "        return '{} {}'.format('eow' if self.eow else '', self.children, )\n",
    "\n",
    "\n",
    "class Trie:\n",
    "    def __init__(self):\n",
    "        self.root = TrieNode()\n",
    "\n",
    "    def add_word(self, word: str):\n",
    "        if word in self:\n",
    "            return\n",
    "\n",
    "        word = list(word)\n",
    "        node = self.root\n",
    "        while word[0] in node.children.keys():\n",
    "            node = node.children[word.pop(0)]\n",
    "        while word:\n",
    "            char = word.pop(0)\n",
    "            node.add(char, True if not word else False)\n",
    "            node = node.children[char]\n",
    "\n",
    "    def add_words(self, words: list):\n",
    "        for word in words:\n",
    "            self.add_word(word)\n",
    "\n",
    "    def find_words(self, letters: list):\n",
    "        valid_words = set()\n",
    "        search_candidate = []\n",
    "        letters_remaining = copy(letters)\n",
    "\n",
    "        def search(v):\n",
    "            if v.eow and ''.join(search_candidate) not in valid_words:\n",
    "                valid_words.add(''.join(search_candidate))\n",
    "\n",
    "            for l in set(letters_remaining):\n",
    "                if l in v.children:\n",
    "                    search_candidate.append(l)\n",
    "                    letters_remaining.remove(l)\n",
    "                    search(v.children[l])\n",
    "                    del search_candidate[-1]\n",
    "                    letters_remaining.append(l)\n",
    "\n",
    "        search(self.root)\n",
    "        return valid_words\n",
    "\n",
    "    def get_lexicon(self):\n",
    "        lexicon = set()\n",
    "        search_candidate = []\n",
    "\n",
    "        def search(v):\n",
    "            if v.eow and ''.join(search_candidate) not in lexicon:\n",
    "                lexicon.add(''.join(search_candidate))\n",
    "\n",
    "            for l, w in v.children.items():\n",
    "                search_candidate.append(l)\n",
    "                search(w)\n",
    "                del search_candidate[-1]\n",
    "\n",
    "        search(self.root)\n",
    "        return lexicon\n",
    "\n",
    "    def __contains__(self, word: str):\n",
    "        word = list(word)\n",
    "        node = self.root\n",
    "        while word:\n",
    "            char = word.pop(0)\n",
    "            try:\n",
    "                node = node.children[char]\n",
    "            except KeyError:\n",
    "                return False\n",
    "        return True if node.eow else False\n",
    "\n",
    "    def __repr__(self):\n",
    "        return str(self.root)\n",
    "\n"
   ]
  },
  {
   "cell_type": "code",
   "execution_count": 44,
   "metadata": {},
   "outputs": [],
   "source": [
    "trie = Trie()\n",
    "trie.add_words(lexicon)"
   ]
  },
  {
   "cell_type": "code",
   "execution_count": 48,
   "metadata": {},
   "outputs": [
    {
     "data": {
      "text/plain": [
       "2.0123534202575684"
      ]
     },
     "execution_count": 48,
     "metadata": {},
     "output_type": "execute_result"
    }
   ],
   "source": [
    "ALPHABET = ['A', 'B', 'C', 'D', 'E', 'F', 'G', 'H', 'I', 'J', 'K', 'L', 'M', \n",
    "           'N', 'O', 'P', 'Q', 'R', 'S', 'T', 'U', 'V', 'A', 'A', 'E', 'E']\n",
    "start = time()\n",
    "words = trie.find_words(ALPHABET*3)\n",
    "time() - start"
   ]
  },
  {
   "cell_type": "code",
   "execution_count": 46,
   "metadata": {},
   "outputs": [
    {
     "data": {
      "text/plain": [
       "59028"
      ]
     },
     "execution_count": 46,
     "metadata": {},
     "output_type": "execute_result"
    }
   ],
   "source": [
    "len(words)"
   ]
  },
  {
   "cell_type": "code",
   "execution_count": 21,
   "metadata": {},
   "outputs": [
    {
     "data": {
      "text/plain": [
       "0.5148344039916992"
      ]
     },
     "execution_count": 21,
     "metadata": {},
     "output_type": "execute_result"
    }
   ],
   "source": [
    "start = time()\n",
    "trie.get_lexicon()\n",
    "time() - start"
   ]
  },
  {
   "cell_type": "code",
   "execution_count": null,
   "metadata": {},
   "outputs": [],
   "source": []
  }
 ],
 "metadata": {
  "kernelspec": {
   "display_name": "Python 3",
   "language": "python",
   "name": "python3"
  },
  "language_info": {
   "codemirror_mode": {
    "name": "ipython",
    "version": 3
   },
   "file_extension": ".py",
   "mimetype": "text/x-python",
   "name": "python",
   "nbconvert_exporter": "python",
   "pygments_lexer": "ipython3",
   "version": "3.8.3"
  }
 },
 "nbformat": 4,
 "nbformat_minor": 4
}
