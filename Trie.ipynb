{
 "cells": [
  {
   "cell_type": "code",
   "execution_count": 106,
   "metadata": {},
   "outputs": [],
   "source": [
    "from copy import copy"
   ]
  },
  {
   "cell_type": "code",
   "execution_count": 2,
   "metadata": {},
   "outputs": [],
   "source": [
    "filename = 'lexicon.txt'\n",
    "lexicon_file = open(filename, 'r')\n",
    "lexicon = [line.rstrip() for line in lexicon_file.readlines()]"
   ]
  },
  {
   "cell_type": "code",
   "execution_count": 111,
   "metadata": {},
   "outputs": [],
   "source": [
    "class TrieNode:\n",
    "    def __init__(self, eow: bool = False):\n",
    "        self.eow = eow  # end of word\n",
    "        self.children = {}\n",
    "\n",
    "    def add(self, char, final_char: bool = False):\n",
    "        assert char not in self.children.keys()\n",
    "        self.children[char] = TrieNode(final_char)\n",
    "\n",
    "    def __repr__(self):\n",
    "        return '{} {}'.format('eow' if self.eow else '', self.children, )\n",
    "\n",
    "\n",
    "class Trie:\n",
    "    def __init__(self):\n",
    "        self.root = TrieNode()\n",
    "        self.search_candidate = ''\n",
    "\n",
    "    def add_word(self, word: str):\n",
    "        if word in self:\n",
    "            return\n",
    "\n",
    "        word = list(word)\n",
    "        node = self.root\n",
    "        \n",
    "        # get to the most recent node\n",
    "        while word[0] in node.children.keys():\n",
    "            node = node.children[word.pop(0)]\n",
    "            \n",
    "        # add more nodes\n",
    "        while word:\n",
    "            char = word.pop(0)\n",
    "            node.add(char, True if not word else False)\n",
    "            node = node.children[char]\n",
    "\n",
    "    def add_words(self, words: list):\n",
    "        for word in words:\n",
    "            self.add_word(word)\n",
    "            \n",
    "    def find_words(self, letters: list):\n",
    "        valid_words = set()\n",
    "        search_candidate = []\n",
    "        letters_remaining = letters\n",
    "\n",
    "        def search(v):            \n",
    "            if v.eow and ''.join(search_candidate) not in valid_words:\n",
    "                valid_words.add(''.join(search_candidate))\n",
    "            \n",
    "            for l in copy(letters_remaining):\n",
    "                if l in v.children:\n",
    "                    search_candidate.append(l)\n",
    "                    letters_remaining.remove(l)\n",
    "                    search(v.children[l])\n",
    "                    del search_candidate[-1]\n",
    "                    letters_remaining.append(l)\n",
    "\n",
    "        search(self.root)\n",
    "        return valid_words\n",
    "\n",
    "    def __contains__(self, word: str):\n",
    "        word = list(word)\n",
    "        node = self.root\n",
    "        while word:\n",
    "            char = word.pop(0)\n",
    "            try:\n",
    "                node = node.children[char]\n",
    "            except KeyError:\n",
    "                return False\n",
    "        return True if node.eow else False\n",
    "\n",
    "    def __repr__(self):\n",
    "        return str(self.root)"
   ]
  },
  {
   "cell_type": "code",
   "execution_count": 112,
   "metadata": {},
   "outputs": [],
   "source": [
    "trie = Trie()\n",
    "trie.add_words(lexicon[:40000])"
   ]
  },
  {
   "cell_type": "code",
   "execution_count": 113,
   "metadata": {},
   "outputs": [
    {
     "name": "stdout",
     "output_type": "stream",
     "text": [
      "searching . remaining ['A', 'B', 'C']\n",
      "searching A. remaining ['B', 'C']\n",
      "searching AB. remaining ['C']\n",
      "searching ABC. remaining []\n",
      "searching AC. remaining ['B']\n",
      "searching B. remaining ['C', 'A']\n",
      "searching BA. remaining ['C']\n",
      "searching BAC. remaining []\n",
      "searching C. remaining ['A', 'B']\n",
      "searching CA. remaining ['B']\n",
      "searching CAB. remaining []\n"
     ]
    }
   ],
   "source": [
    "letters = ['A', 'B', 'C']\n",
    "words = trie.find_words(letters)"
   ]
  },
  {
   "cell_type": "code",
   "execution_count": 110,
   "metadata": {},
   "outputs": [
    {
     "data": {
      "text/plain": [
       "{'AB', 'BA', 'BAC', 'CAB'}"
      ]
     },
     "execution_count": 110,
     "metadata": {},
     "output_type": "execute_result"
    }
   ],
   "source": [
    "words"
   ]
  },
  {
   "cell_type": "code",
   "execution_count": 86,
   "metadata": {},
   "outputs": [
    {
     "data": {
      "text/plain": [
       "True"
      ]
     },
     "execution_count": 86,
     "metadata": {},
     "output_type": "execute_result"
    }
   ],
   "source": [
    "'C' in trie.root.children"
   ]
  },
  {
   "cell_type": "code",
   "execution_count": 72,
   "metadata": {},
   "outputs": [
    {
     "data": {
      "text/plain": [
       "{'AB', 'BA', 'BAC'}"
      ]
     },
     "execution_count": 72,
     "metadata": {},
     "output_type": "execute_result"
    }
   ],
   "source": [
    "words"
   ]
  },
  {
   "cell_type": "code",
   "execution_count": null,
   "metadata": {},
   "outputs": [],
   "source": [
    "def dfs(n, edges):\n",
    "    \"\"\"Given a list of all edges of a graph with vertices 0 to n-1,\n",
    "    will explore every vertex, depth first, without recursion.\"\"\"\n",
    "\n",
    "    undiscovered = set(range(n))\n",
    "\n",
    "    first_vertex = root\n",
    "    undiscovered.add(first_vertex)\n",
    "    stack = [first_vertex]              # the stack is a list of vertices to explore\n",
    "    while stack:\n",
    "        v = stack.pop()\n",
    "        if v in undiscovered:\n",
    "            print('Just discovered vertex {}.'.format(v))\n",
    "            undiscovered.remove(v)\n",
    "            for w in edges_by_vertex[v]:\n",
    "                stack.append(w)\n",
    "\n",
    "\n",
    "dfs(8, [[0, 1], [0, 2], [0, 4], [1, 3], [1, 5], [2, 6], [4, 5], ])"
   ]
  },
  {
   "cell_type": "code",
   "execution_count": null,
   "metadata": {},
   "outputs": [],
   "source": [
    "    def find_words(self, letters: list):\n",
    "        \"\"\"Given a list of all edges of a graph with vertices 0 to n-1,\n",
    "        will explore every vertex, depth first, without recursion.\"\"\"\n",
    "        valid_words = []\n",
    "        \n",
    "        first_vertex = self.root\n",
    "        discovered = {first_vertex}\n",
    "        stack = [first_vertex]              # the stack is a list of vertices to explore\n",
    "        c = []                              # the current path\n",
    "        while stack:\n",
    "            v = stack.pop()\n",
    "            if v not in discovered:\n",
    "                discovered.add(v)\n",
    "                if v.eow:\n",
    "                    valid_words.append(''.join(c))\n",
    "                for w in edges_by_vertex[v]:\n",
    "                    stack.append(w)"
   ]
  }
 ],
 "metadata": {
  "kernelspec": {
   "display_name": "Python 3",
   "language": "python",
   "name": "python3"
  },
  "language_info": {
   "codemirror_mode": {
    "name": "ipython",
    "version": 3
   },
   "file_extension": ".py",
   "mimetype": "text/x-python",
   "name": "python",
   "nbconvert_exporter": "python",
   "pygments_lexer": "ipython3",
   "version": "3.8.1"
  }
 },
 "nbformat": 4,
 "nbformat_minor": 4
}
