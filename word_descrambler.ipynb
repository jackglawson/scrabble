{
 "cells": [
  {
   "cell_type": "code",
   "execution_count": 1,
   "metadata": {},
   "outputs": [],
   "source": [
    "import sys\n",
    "import os\n",
    "cwd = os.getcwd()\n",
    "new_path = cwd[:-len('\\\\scrabble')]\n",
    "if new_path not in sys.path:\n",
    "    sys.path.insert(0, cwd[:-len('\\\\scrabble')])\n",
    "from perms_and_combs.perms_and_combs import permutation_no_repetition\n",
    "from trie import Trie, TrieNode \n",
    "from time import time\n",
    "import matplotlib.pyplot as plt\n",
    "import random\n",
    "from copy import copy\n",
    "import pandas as pd\n",
    "import numpy as np"
   ]
  },
  {
   "cell_type": "code",
   "execution_count": 2,
   "metadata": {},
   "outputs": [],
   "source": [
    "filename = 'lexicon.txt'\n",
    "lexicon_file = open(filename, 'r')\n",
    "lexicon = [line.rstrip() for line in lexicon_file.readlines()]"
   ]
  },
  {
   "cell_type": "code",
   "execution_count": 3,
   "metadata": {},
   "outputs": [],
   "source": [
    "trie = Trie()\n",
    "trie.add_words(lexicon)"
   ]
  },
  {
   "cell_type": "code",
   "execution_count": 4,
   "metadata": {},
   "outputs": [],
   "source": [
    "ALPHABET = ['A', 'B', 'C', 'D', 'E', 'F', 'G', 'H', 'I', 'J', 'K', 'L', 'M', \n",
    "           'N', 'O', 'P', 'Q', 'R', 'S', 'T', 'U', 'V', 'W', 'X', 'Y', 'Z']"
   ]
  },
  {
   "cell_type": "code",
   "execution_count": 5,
   "metadata": {},
   "outputs": [],
   "source": [
    "LETTER_DISTRIBUTION = {'A': 13, 'B': 3, 'C': 3, 'D': 6, 'E': 18, 'F': 3, \n",
    "                       'G': 4, 'H': 3, 'I': 12, 'J': 2, 'K': 2, 'L': 5, \n",
    "                       'M': 3, 'N': 8, 'O': 11, 'P': 3, 'Q': 2, 'R': 9, \n",
    "                       'S': 6, 'T': 9, 'U': 6, 'V': 3, 'W': 3, 'X': 2, \n",
    "                       'Y': 3, 'Z': 2}\n",
    "\n",
    "class Bananagrams:\n",
    "    def __init__(self):\n",
    "        self.bunch = copy(LETTER_DISTRIBUTION)\n",
    "        \n",
    "    def take_letters(self, n):\n",
    "        assert sum(self.bunch.values()) >= n, \"Out of letters!\"\n",
    "        letters = []\n",
    "        for _ in range(n):\n",
    "            new_letter = random.choices(list(self.bunch.keys()), weights=self.bunch.values())[0]\n",
    "            letters.append(new_letter) \n",
    "            self.bunch[new_letter] -= 1\n",
    "        return letters"
   ]
  },
  {
   "cell_type": "markdown",
   "metadata": {},
   "source": [
    "# Brute force solution"
   ]
  },
  {
   "cell_type": "code",
   "execution_count": 33,
   "metadata": {},
   "outputs": [],
   "source": [
    "def get_words(letters, word_length):\n",
    "    perms = permutation_no_repetition(len(letters), word_length)\n",
    "    for perm in perms:\n",
    "        word = ''.join([letters[i] for i in perm])\n",
    "        if word in trie:\n",
    "            yield word"
   ]
  },
  {
   "cell_type": "code",
   "execution_count": 34,
   "metadata": {
    "scrolled": false
   },
   "outputs": [
    {
     "name": "stdout",
     "output_type": "stream",
     "text": [
      "Time taken for length 1 is 0.0. Found 0 words\n",
      "Time taken for length 2 is 0.0. Found 10 words\n",
      "Time taken for length 3 is 0.0. Found 22 words\n",
      "Time taken for length 4 is 0.00099945068359375. Found 16 words\n",
      "Time taken for length 5 is 0.0009996891021728516. Found 0 words\n"
     ]
    }
   ],
   "source": [
    "words = []\n",
    "for word_length in range(1, len(letters)+1):\n",
    "    start = time()\n",
    "    g = list(get_words(letters, word_length))\n",
    "    words += g\n",
    "    end = time()\n",
    "    print('Time taken for length {} is {}. Found {} words'.format(word_length, end-start, len(g)))"
   ]
  },
  {
   "cell_type": "code",
   "execution_count": 36,
   "metadata": {
    "scrolled": true
   },
   "outputs": [
    {
     "data": {
      "text/plain": [
       "48"
      ]
     },
     "execution_count": 36,
     "metadata": {},
     "output_type": "execute_result"
    }
   ],
   "source": [
    "len(words)"
   ]
  },
  {
   "cell_type": "markdown",
   "metadata": {},
   "source": [
    "# Analysis"
   ]
  },
  {
   "cell_type": "markdown",
   "metadata": {},
   "source": [
    "## Time taken"
   ]
  },
  {
   "cell_type": "code",
   "execution_count": 10,
   "metadata": {},
   "outputs": [
    {
     "name": "stdout",
     "output_type": "stream",
     "text": [
      "calculating for n = 1\n",
      "calculating for n = 2\n",
      "calculating for n = 3\n",
      "calculating for n = 4\n",
      "calculating for n = 5\n",
      "calculating for n = 6\n",
      "calculating for n = 7\n",
      "calculating for n = 8\n",
      "calculating for n = 9\n",
      "calculating for n = 10\n",
      "calculating for n = 11\n",
      "calculating for n = 12\n",
      "calculating for n = 13\n",
      "calculating for n = 14\n",
      "calculating for n = 15\n",
      "calculating for n = 16\n",
      "calculating for n = 17\n",
      "calculating for n = 18\n",
      "calculating for n = 19\n",
      "calculating for n = 20\n",
      "calculating for n = 21\n",
      "calculating for n = 22\n",
      "calculating for n = 23\n",
      "calculating for n = 24\n",
      "calculating for n = 25\n",
      "calculating for n = 26\n",
      "calculating for n = 27\n",
      "calculating for n = 28\n",
      "calculating for n = 29\n",
      "calculating for n = 30\n",
      "calculating for n = 31\n",
      "calculating for n = 32\n",
      "calculating for n = 33\n",
      "calculating for n = 34\n",
      "calculating for n = 35\n",
      "calculating for n = 36\n",
      "calculating for n = 37\n",
      "calculating for n = 38\n",
      "calculating for n = 39\n",
      "calculating for n = 40\n",
      "calculating for n = 41\n",
      "calculating for n = 42\n",
      "calculating for n = 43\n",
      "calculating for n = 44\n",
      "calculating for n = 45\n",
      "calculating for n = 46\n",
      "calculating for n = 47\n",
      "calculating for n = 48\n",
      "calculating for n = 49\n",
      "calculating for n = 50\n",
      "calculating for n = 51\n",
      "calculating for n = 52\n",
      "calculating for n = 53\n",
      "calculating for n = 54\n",
      "calculating for n = 55\n",
      "calculating for n = 56\n",
      "calculating for n = 57\n",
      "calculating for n = 58\n",
      "calculating for n = 59\n",
      "calculating for n = 60\n",
      "calculating for n = 61\n",
      "calculating for n = 62\n",
      "calculating for n = 63\n",
      "calculating for n = 64\n",
      "calculating for n = 65\n",
      "calculating for n = 66\n",
      "calculating for n = 67\n",
      "calculating for n = 68\n",
      "calculating for n = 69\n",
      "calculating for n = 70\n",
      "calculating for n = 71\n",
      "calculating for n = 72\n",
      "calculating for n = 73\n",
      "calculating for n = 74\n",
      "calculating for n = 75\n",
      "calculating for n = 76\n",
      "calculating for n = 77\n",
      "calculating for n = 78\n",
      "calculating for n = 79\n",
      "calculating for n = 80\n"
     ]
    }
   ],
   "source": [
    "def time_to_find_all_words(num_letters):\n",
    "    b = Bananagrams()\n",
    "    start = time()\n",
    "    words = list(trie.find_words(b.take_letters(num_letters)))\n",
    "    return time() - start\n",
    "\n",
    "max_word_length = 80\n",
    "num_repeats = 5\n",
    "\n",
    "df = pd.DataFrame(columns=['TIME_TAKEN', 'STD'], index=range(1, 1 + max_word_length))\n",
    "\n",
    "for n in df.index:\n",
    "    print('calculating for n = {}'.format(n))\n",
    "    results = [time_to_find_all_words(n) for _ in range(num_repeats)]\n",
    "    df.loc[n, 'TIME_TAKEN'] = np.mean(results)\n",
    "    df.loc[n, 'STD'] = np.std(results)"
   ]
  },
  {
   "cell_type": "code",
   "execution_count": 16,
   "metadata": {},
   "outputs": [],
   "source": [
    "plt.plot?"
   ]
  },
  {
   "cell_type": "code",
   "execution_count": 18,
   "metadata": {},
   "outputs": [
    {
     "data": {
      "image/png": "[encoded data removed]",
      "text/plain": [
       "<Figure size 432x288 with 1 Axes>"
      ]
     },
     "metadata": {
      "needs_background": "light"
     },
     "output_type": "display_data"
    }
   ],
   "source": [
    "plt.bar(df.index, df.TIME_TAKEN, yerr=df.STD)\n",
    "plt.title('Time taken to find all words that can be made from n letters')\n",
    "plt.ylabel('Time, s')\n",
    "plt.xlabel('Number of letters')\n",
    "plt.savefig('fig3')"
   ]
  },
  {
   "cell_type": "markdown",
   "metadata": {},
   "source": [
    "## word length"
   ]
  },
  {
   "cell_type": "code",
   "execution_count": 19,
   "metadata": {},
   "outputs": [],
   "source": [
    "def word_length_dist(num_letters):\n",
    "    b = Bananagrams()\n",
    "    words = list(trie.find_words(b.take_letters(num_letters)))\n",
    "    length_dist = {}\n",
    "    for word in words:\n",
    "        try:\n",
    "            length_dist[len(word)] += 1\n",
    "        except:\n",
    "            length_dist[len(word)] = 1\n",
    "    return length_dist"
   ]
  },
  {
   "cell_type": "code",
   "execution_count": 20,
   "metadata": {},
   "outputs": [
    {
     "data": {
      "text/plain": [
       "<BarContainer object of 14 artists>"
      ]
     },
     "execution_count": 20,
     "metadata": {},
     "output_type": "execute_result"
    },
    {
     "data": {
      "image/png": "[encoded data removed]",
      "text/plain": [
       "<Figure size 432x288 with 1 Axes>"
      ]
     },
     "metadata": {
      "needs_background": "light"
     },
     "output_type": "display_data"
    }
   ],
   "source": [
    "wld = word_length_dist(100)\n",
    "plt.bar(wld.keys(), wld.values())"
   ]
  },
  {
   "cell_type": "markdown",
   "metadata": {},
   "source": [
    "## word length in lexicon"
   ]
  },
  {
   "cell_type": "code",
   "execution_count": 119,
   "metadata": {},
   "outputs": [],
   "source": [
    "def word_length_dist_lexicon(lexicon):\n",
    "    length_dist = {}\n",
    "    for word in lexicon:\n",
    "        try:\n",
    "            length_dist[len(word)] += 1\n",
    "        except:\n",
    "            length_dist[len(word)] = 1\n",
    "    return length_dist"
   ]
  },
  {
   "cell_type": "code",
   "execution_count": 124,
   "metadata": {},
   "outputs": [
    {
     "data": {
      "text/plain": [
       "<BarContainer object of 14 artists>"
      ]
     },
     "execution_count": 124,
     "metadata": {},
     "output_type": "execute_result"
    },
    {
     "data": {
      "image/png": "[encoded data removed]",
      "text/plain": [
       "<Figure size 432x288 with 1 Axes>"
      ]
     },
     "metadata": {
      "needs_background": "light"
     },
     "output_type": "display_data"
    }
   ],
   "source": [
    "wldl = word_length_dist_lexicon(lexicon)\n",
    "plt.bar(wldl.keys(), wldl.values())"
   ]
  },
  {
   "cell_type": "markdown",
   "metadata": {},
   "source": [
    "## time to explore whole trie"
   ]
  },
  {
   "cell_type": "code",
   "execution_count": 8,
   "metadata": {},
   "outputs": [
    {
     "data": {
      "text/plain": [
       "0.4928407669067383"
      ]
     },
     "execution_count": 8,
     "metadata": {},
     "output_type": "execute_result"
    }
   ],
   "source": [
    "def time_to_explore_trie(trie):\n",
    "    start = time()\n",
    "    trie.get_lexicon()\n",
    "    return time() - start\n",
    "\n",
    "time_to_explore_trie(trie)"
   ]
  },
  {
   "cell_type": "code",
   "execution_count": null,
   "metadata": {},
   "outputs": [],
   "source": []
  },
  {
   "cell_type": "code",
   "execution_count": null,
   "metadata": {},
   "outputs": [],
   "source": []
  },
  {
   "cell_type": "code",
   "execution_count": null,
   "metadata": {},
   "outputs": [],
   "source": []
  },
  {
   "cell_type": "code",
   "execution_count": null,
   "metadata": {},
   "outputs": [],
   "source": []
  },
  {
   "cell_type": "code",
   "execution_count": 112,
   "metadata": {},
   "outputs": [
    {
     "name": "stdout",
     "output_type": "stream",
     "text": [
      "0.002999544143676758\n"
     ]
    }
   ],
   "source": [
    "b = Bananagrams()\n",
    "start = time()\n",
    "words = list(trie.find_words(b.take_letters(10)))\n",
    "print(time() - start)"
   ]
  },
  {
   "cell_type": "code",
   "execution_count": 113,
   "metadata": {},
   "outputs": [
    {
     "data": {
      "text/plain": [
       "386"
      ]
     },
     "execution_count": 113,
     "metadata": {},
     "output_type": "execute_result"
    }
   ],
   "source": [
    "len(words)"
   ]
  },
  {
   "cell_type": "code",
   "execution_count": 114,
   "metadata": {
    "scrolled": true
   },
   "outputs": [
    {
     "data": {
      "text/plain": [
       "'WEEPINGS'"
      ]
     },
     "execution_count": 114,
     "metadata": {},
     "output_type": "execute_result"
    }
   ],
   "source": [
    "max(words, key=len)"
   ]
  },
  {
   "cell_type": "code",
   "execution_count": null,
   "metadata": {},
   "outputs": [],
   "source": []
  }
 ],
 "metadata": {
  "kernelspec": {
   "display_name": "Python 3",
   "language": "python",
   "name": "python3"
  },
  "language_info": {
   "codemirror_mode": {
    "name": "ipython",
    "version": 3
   },
   "file_extension": ".py",
   "mimetype": "text/x-python",
   "name": "python",
   "nbconvert_exporter": "python",
   "pygments_lexer": "ipython3",
   "version": "3.8.3"
  }
 },
 "nbformat": 4,
 "nbformat_minor": 4
}
