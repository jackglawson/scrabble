{
 "cells": [
  {
   "cell_type": "code",
   "execution_count": 2,
   "metadata": {},
   "outputs": [],
   "source": [
    "import sys\n",
    "sys.path.insert(0, 'c:\\\\users\\jackg\\Documents\\python_projects')\n",
    "from perms_and_combs.perms_and_combs import permutation_no_repetition\n",
    "from trie import Trie, TrieNode \n",
    "from time import time"
   ]
  },
  {
   "cell_type": "code",
   "execution_count": 3,
   "metadata": {},
   "outputs": [],
   "source": [
    "filename = 'lexicon.txt'\n",
    "lexicon_file = open(filename, 'r')\n",
    "lexicon = [line.rstrip() for line in lexicon_file.readlines()]"
   ]
  },
  {
   "cell_type": "code",
   "execution_count": 4,
   "metadata": {},
   "outputs": [],
   "source": [
    "trie = Trie()\n",
    "trie.add_words(lexicon[:40000])"
   ]
  },
  {
   "cell_type": "code",
   "execution_count": 7,
   "metadata": {},
   "outputs": [],
   "source": [
    "letters = ['A', 'B', 'C', 'D', 'E', 'F', 'G', 'H', 'I']\n",
    "# letters = ['A', 'B', 'C']"
   ]
  },
  {
   "cell_type": "markdown",
   "metadata": {},
   "source": [
    "# Old solution"
   ]
  },
  {
   "cell_type": "code",
   "execution_count": 8,
   "metadata": {},
   "outputs": [],
   "source": [
    "def get_words(letters, word_length):\n",
    "    perms = permutation_no_repetition(len(letters), word_length)\n",
    "    for perm in perms:\n",
    "        word = ''.join([letters[i] for i in perm])\n",
    "        if word in trie:\n",
    "            yield word"
   ]
  },
  {
   "cell_type": "code",
   "execution_count": 13,
   "metadata": {},
   "outputs": [
    {
     "name": "stdout",
     "output_type": "stream",
     "text": [
      "Time taken for length 1 is 0.0. Found 0 words\n",
      "Time taken for length 2 is 0.0. Found 10 words\n",
      "Time taken for length 3 is 0.005982875823974609. Found 21 words\n",
      "Time taken for length 4 is 0.021938562393188477. Found 28 words\n",
      "Time taken for length 5 is 0.06881499290466309. Found 17 words\n",
      "Time taken for length 6 is 0.2715587615966797. Found 4 words\n",
      "Time taken for length 7 is 0.9175450801849365. Found 1 words\n",
      "Time taken for length 8 is 2.213120222091675. Found 0 words\n",
      "Time taken for length 9 is 3.420853614807129. Found 0 words\n"
     ]
    }
   ],
   "source": [
    "words = []\n",
    "for word_length in range(1, len(letters)+1):\n",
    "    start = time()\n",
    "    g = list(get_words(letters, word_length))\n",
    "    words += g\n",
    "    end = time()\n",
    "    print('Time taken for length {} is {}. Found {} words'.format(word_length, end-start, len(g)))"
   ]
  },
  {
   "cell_type": "code",
   "execution_count": 14,
   "metadata": {},
   "outputs": [
    {
     "data": {
      "text/plain": [
       "81"
      ]
     },
     "execution_count": 14,
     "metadata": {},
     "output_type": "execute_result"
    }
   ],
   "source": [
    "len(words)"
   ]
  },
  {
   "cell_type": "markdown",
   "metadata": {},
   "source": [
    "# New solution"
   ]
  },
  {
   "cell_type": "code",
   "execution_count": 15,
   "metadata": {},
   "outputs": [],
   "source": [
    "words = trie.find_words(letters)"
   ]
  },
  {
   "cell_type": "code",
   "execution_count": 16,
   "metadata": {},
   "outputs": [
    {
     "data": {
      "text/plain": [
       "81"
      ]
     },
     "execution_count": 16,
     "metadata": {},
     "output_type": "execute_result"
    }
   ],
   "source": [
    "len(words)"
   ]
  }
 ],
 "metadata": {
  "kernelspec": {
   "display_name": "Python 3",
   "language": "python",
   "name": "python3"
  },
  "language_info": {
   "codemirror_mode": {
    "name": "ipython",
    "version": 3
   },
   "file_extension": ".py",
   "mimetype": "text/x-python",
   "name": "python",
   "nbconvert_exporter": "python",
   "pygments_lexer": "ipython3",
   "version": "3.8.1"
  }
 },
 "nbformat": 4,
 "nbformat_minor": 4
}
