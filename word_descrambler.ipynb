{
 "cells": [
  {
   "cell_type": "code",
   "execution_count": 1,
   "metadata": {},
   "outputs": [],
   "source": [
    "import sys\n",
    "import os\n",
    "cwd = os.getcwd()\n",
    "new_path = cwd[:-len('\\\\scrabble')]\n",
    "if new_path not in sys.path:\n",
    "    sys.path.insert(0, cwd[:-len('\\\\scrabble')])\n",
    "from perms_and_combs.perms_and_combs import permutation_no_repetition\n",
    "from trie import Trie, TrieNode \n",
    "from time import time\n",
    "import matplotlib.pyplot as plt\n",
    "import random\n",
    "from copy import copy\n",
    "import pandas as pd\n",
    "import numpy as np"
   ]
  },
  {
   "cell_type": "code",
   "execution_count": 2,
   "metadata": {},
   "outputs": [],
   "source": [
    "filename = 'lexicon.txt'\n",
    "lexicon_file = open(filename, 'r')\n",
    "lexicon = [line.rstrip() for line in lexicon_file.readlines()]"
   ]
  },
  {
   "cell_type": "code",
   "execution_count": 3,
   "metadata": {},
   "outputs": [],
   "source": [
    "trie = Trie()\n",
    "trie.add_words(lexicon)"
   ]
  },
  {
   "cell_type": "code",
   "execution_count": 4,
   "metadata": {},
   "outputs": [],
   "source": [
    "ALPHABET = ['A', 'B', 'C', 'D', 'E', 'F', 'G', 'H', 'I', 'J', 'K', 'L', 'M', \n",
    "           'N', 'O', 'P', 'Q', 'R', 'S', 'T', 'U', 'V', 'W', 'X', 'Y', 'Z']"
   ]
  },
  {
   "cell_type": "code",
   "execution_count": 5,
   "metadata": {},
   "outputs": [],
   "source": [
    "LETTER_DISTRIBUTION = {'A': 13, 'B': 3, 'C': 3, 'D': 6, 'E': 18, 'F': 3, \n",
    "                       'G': 4, 'H': 3, 'I': 12, 'J': 2, 'K': 2, 'L': 5, \n",
    "                       'M': 3, 'N': 8, 'O': 11, 'P': 3, 'Q': 2, 'R': 9, \n",
    "                       'S': 6, 'T': 9, 'U': 6, 'V': 3, 'W': 3, 'X': 2, \n",
    "                       'Y': 3, 'Z': 2}\n",
    "\n",
    "class Bananagrams:\n",
    "    def __init__(self):\n",
    "        self.bunch = copy(LETTER_DISTRIBUTION)\n",
    "        \n",
    "    def take_letters(self, n):\n",
    "        assert sum(self.bunch.values()) >= n, \"Out of letters!\"\n",
    "        letters = []\n",
    "        for _ in range(n):\n",
    "            new_letter = random.choices(list(self.bunch.keys()), weights=self.bunch.values())[0]\n",
    "            letters.append(new_letter) \n",
    "            self.bunch[new_letter] -= 1\n",
    "        return letters"
   ]
  },
  {
   "cell_type": "markdown",
   "metadata": {},
   "source": [
    "# Brute force solution"
   ]
  },
  {
   "cell_type": "code",
   "execution_count": 33,
   "metadata": {},
   "outputs": [],
   "source": [
    "def get_words(letters, word_length):\n",
    "    perms = permutation_no_repetition(len(letters), word_length)\n",
    "    for perm in perms:\n",
    "        word = ''.join([letters[i] for i in perm])\n",
    "        if word in trie:\n",
    "            yield word"
   ]
  },
  {
   "cell_type": "code",
   "execution_count": 34,
   "metadata": {
    "scrolled": false
   },
   "outputs": [
    {
     "name": "stdout",
     "output_type": "stream",
     "text": [
      "Time taken for length 1 is 0.0. Found 0 words\n",
      "Time taken for length 2 is 0.0. Found 10 words\n",
      "Time taken for length 3 is 0.0. Found 22 words\n",
      "Time taken for length 4 is 0.00099945068359375. Found 16 words\n",
      "Time taken for length 5 is 0.0009996891021728516. Found 0 words\n"
     ]
    }
   ],
   "source": [
    "words = []\n",
    "for word_length in range(1, len(letters)+1):\n",
    "    start = time()\n",
    "    g = list(get_words(letters, word_length))\n",
    "    words += g\n",
    "    end = time()\n",
    "    print('Time taken for length {} is {}. Found {} words'.format(word_length, end-start, len(g)))"
   ]
  },
  {
   "cell_type": "code",
   "execution_count": 36,
   "metadata": {
    "scrolled": true
   },
   "outputs": [
    {
     "data": {
      "text/plain": [
       "48"
      ]
     },
     "execution_count": 36,
     "metadata": {},
     "output_type": "execute_result"
    }
   ],
   "source": [
    "len(words)"
   ]
  },
  {
   "cell_type": "markdown",
   "metadata": {},
   "source": [
    "# Analysis"
   ]
  },
  {
   "cell_type": "markdown",
   "metadata": {},
   "source": [
    "## Time taken"
   ]
  },
  {
   "cell_type": "code",
   "execution_count": 11,
   "metadata": {
    "scrolled": true
   },
   "outputs": [
    {
     "name": "stdout",
     "output_type": "stream",
     "text": [
      "done n = 1\n",
      "done n = 2\n",
      "done n = 3\n",
      "done n = 4\n",
      "done n = 5\n",
      "done n = 6\n",
      "done n = 7\n",
      "done n = 8\n",
      "done n = 9\n",
      "done n = 10\n",
      "done n = 11\n",
      "done n = 12\n",
      "done n = 13\n",
      "done n = 14\n",
      "done n = 15\n",
      "done n = 16\n",
      "done n = 17\n",
      "done n = 18\n",
      "done n = 19\n",
      "done n = 20\n",
      "done n = 21\n",
      "done n = 22\n",
      "done n = 23\n",
      "done n = 24\n",
      "done n = 25\n",
      "done n = 26\n",
      "done n = 27\n",
      "done n = 28\n",
      "done n = 29\n",
      "done n = 30\n",
      "done n = 31\n",
      "done n = 32\n",
      "done n = 33\n",
      "done n = 34\n",
      "done n = 35\n",
      "done n = 36\n",
      "done n = 37\n",
      "done n = 38\n",
      "done n = 39\n",
      "done n = 40\n",
      "done n = 41\n",
      "done n = 42\n",
      "done n = 43\n",
      "done n = 44\n",
      "done n = 45\n",
      "done n = 46\n",
      "done n = 47\n",
      "done n = 48\n",
      "done n = 49\n",
      "done n = 50\n",
      "done n = 51\n",
      "done n = 52\n",
      "done n = 53\n",
      "done n = 54\n",
      "done n = 55\n",
      "done n = 56\n",
      "done n = 57\n",
      "done n = 58\n",
      "done n = 59\n",
      "done n = 60\n",
      "done n = 61\n",
      "done n = 62\n",
      "done n = 63\n",
      "done n = 64\n",
      "done n = 65\n",
      "done n = 66\n",
      "done n = 67\n",
      "done n = 68\n",
      "done n = 69\n",
      "done n = 70\n"
     ]
    }
   ],
   "source": [
    "def time_to_find_all_words(num_letters):\n",
    "    b = Bananagrams()\n",
    "    start = time()\n",
    "    words = list(trie.find_words(b.take_letters(num_letters)))\n",
    "    return time() - start\n",
    "\n",
    "num_letters = 70\n",
    "num_repeats = 5\n",
    "\n",
    "df = pd.DataFrame(columns=['TIME_TAKEN', 'STD'], index=range(1, 1 + num_letters))\n",
    "\n",
    "for n in df.index:\n",
    "    results = [time_to_find_all_words(n) for _ in range(num_repeats)]\n",
    "    df.loc[n, 'TIME_TAKEN'] = np.mean(results)\n",
    "    df.loc[n, 'STD'] = np.std(results)\n",
    "    print('done n = {}'.format(n))"
   ]
  },
  {
   "cell_type": "code",
   "execution_count": 12,
   "metadata": {},
   "outputs": [
    {
     "data": {
      "image/png": "[encoded data removed]",
      "text/plain": [
       "<Figure size 432x288 with 1 Axes>"
      ]
     },
     "metadata": {
      "needs_background": "light"
     },
     "output_type": "display_data"
    }
   ],
   "source": [
    "plt.bar(df.index, df.TIME_TAKEN, yerr=df.STD)\n",
    "plt.title('Time taken to find all words that can be made from n letters')\n",
    "plt.ylabel('Time, s')\n",
    "plt.xlabel('Number of letters')\n",
    "plt.savefig('fig2')"
   ]
  },
  {
   "cell_type": "code",
   "execution_count": 16,
   "metadata": {},
   "outputs": [
    {
     "data": {
      "text/plain": [
       "2.9777538776397705"
      ]
     },
     "execution_count": 16,
     "metadata": {},
     "output_type": "execute_result"
    }
   ],
   "source": [
    "time_to_find_all_words(140)"
   ]
  },
  {
   "cell_type": "markdown",
   "metadata": {},
   "source": [
    "## word length"
   ]
  },
  {
   "cell_type": "code",
   "execution_count": 13,
   "metadata": {},
   "outputs": [],
   "source": [
    "def word_length_dist(num_letters):\n",
    "    b = Bananagrams()\n",
    "    words = list(trie.find_words(b.take_letters(num_letters)))\n",
    "    length_dist = {}\n",
    "    for word in words:\n",
    "        try:\n",
    "            length_dist[len(word)] += 1\n",
    "        except:\n",
    "            length_dist[len(word)] = 1\n",
    "    return length_dist"
   ]
  },
  {
   "cell_type": "code",
   "execution_count": 14,
   "metadata": {},
   "outputs": [
    {
     "data": {
      "text/plain": [
       "<BarContainer object of 14 artists>"
      ]
     },
     "execution_count": 14,
     "metadata": {},
     "output_type": "execute_result"
    },
    {
     "data": {
      "image/png": "[encoded data removed]",
      "text/plain": [
       "<Figure size 432x288 with 1 Axes>"
      ]
     },
     "metadata": {
      "needs_background": "light"
     },
     "output_type": "display_data"
    }
   ],
   "source": [
    "wld = word_length_dist(24)\n",
    "plt.bar(wld.keys(), wld.values())"
   ]
  },
  {
   "cell_type": "markdown",
   "metadata": {},
   "source": [
    "## word length in lexicon"
   ]
  },
  {
   "cell_type": "code",
   "execution_count": 15,
   "metadata": {},
   "outputs": [],
   "source": [
    "def word_length_dist_lexicon(lexicon):\n",
    "    length_dist = {}\n",
    "    for word in lexicon:\n",
    "        try:\n",
    "            length_dist[len(word)] += 1\n",
    "        except:\n",
    "            length_dist[len(word)] = 1\n",
    "    return length_dist"
   ]
  },
  {
   "cell_type": "code",
   "execution_count": 16,
   "metadata": {},
   "outputs": [
    {
     "data": {
      "text/plain": [
       "<BarContainer object of 14 artists>"
      ]
     },
     "execution_count": 16,
     "metadata": {},
     "output_type": "execute_result"
    },
    {
     "data": {
      "image/png": "[encoded data removed]",
      "text/plain": [
       "<Figure size 432x288 with 1 Axes>"
      ]
     },
     "metadata": {
      "needs_background": "light"
     },
     "output_type": "display_data"
    }
   ],
   "source": [
    "wldl = word_length_dist_lexicon(lexicon)\n",
    "plt.bar(wldl.keys(), wldl.values())"
   ]
  },
  {
   "cell_type": "markdown",
   "metadata": {},
   "source": [
    "## time to explore whole trie"
   ]
  },
  {
   "cell_type": "code",
   "execution_count": 20,
   "metadata": {},
   "outputs": [
    {
     "data": {
      "text/plain": [
       "1.018528699874878"
      ]
     },
     "execution_count": 20,
     "metadata": {},
     "output_type": "execute_result"
    }
   ],
   "source": [
    "def time_to_explore_trie(trie):\n",
    "    start = time()\n",
    "    trie.get_lexicon()\n",
    "    return time() - start\n",
    "\n",
    "time_to_explore_trie(trie)"
   ]
  },
  {
   "cell_type": "code",
   "execution_count": null,
   "metadata": {},
   "outputs": [],
   "source": []
  },
  {
   "cell_type": "code",
   "execution_count": null,
   "metadata": {},
   "outputs": [],
   "source": []
  },
  {
   "cell_type": "code",
   "execution_count": null,
   "metadata": {},
   "outputs": [],
   "source": []
  },
  {
   "cell_type": "code",
   "execution_count": 112,
   "metadata": {},
   "outputs": [
    {
     "name": "stdout",
     "output_type": "stream",
     "text": [
      "0.002999544143676758\n"
     ]
    }
   ],
   "source": [
    "b = Bananagrams()\n",
    "start = time()\n",
    "words = list(trie.find_words(b.take_letters(10)))\n",
    "print(time() - start)"
   ]
  },
  {
   "cell_type": "code",
   "execution_count": 113,
   "metadata": {},
   "outputs": [
    {
     "data": {
      "text/plain": [
       "386"
      ]
     },
     "execution_count": 113,
     "metadata": {},
     "output_type": "execute_result"
    }
   ],
   "source": [
    "len(words)"
   ]
  },
  {
   "cell_type": "code",
   "execution_count": 114,
   "metadata": {
    "scrolled": true
   },
   "outputs": [
    {
     "data": {
      "text/plain": [
       "'WEEPINGS'"
      ]
     },
     "execution_count": 114,
     "metadata": {},
     "output_type": "execute_result"
    }
   ],
   "source": [
    "max(words, key=len)"
   ]
  },
  {
   "cell_type": "code",
   "execution_count": null,
   "metadata": {},
   "outputs": [],
   "source": []
  }
 ],
 "metadata": {
  "kernelspec": {
   "display_name": "Python 3",
   "language": "python",
   "name": "python3"
  },
  "language_info": {
   "codemirror_mode": {
    "name": "ipython",
    "version": 3
   },
   "file_extension": ".py",
   "mimetype": "text/x-python",
   "name": "python",
   "nbconvert_exporter": "python",
   "pygments_lexer": "ipython3",
   "version": "3.8.6"
  }
 },
 "nbformat": 4,
 "nbformat_minor": 4
}
